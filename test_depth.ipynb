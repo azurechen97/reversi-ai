{
 "cells": [
  {
   "cell_type": "code",
   "execution_count": 1,
   "metadata": {},
   "outputs": [],
   "source": [
    "from environment import *\n",
    "from ai import *\n",
    "from utils import *"
   ]
  },
  {
   "cell_type": "code",
   "execution_count": 2,
   "metadata": {},
   "outputs": [],
   "source": [
    "reversi = Reversi()\n",
    "ai0 = EasyAI()\n",
    "ai1 = HardAI(search_depth=1)\n",
    "ai2 = HardAI(search_depth=2)\n",
    "ai3 = HardAI(search_depth=3)\n",
    "ai4 = HardAI(search_depth=4)\n"
   ]
  },
  {
   "cell_type": "code",
   "execution_count": 6,
   "metadata": {},
   "outputs": [
    {
     "name": "stdout",
     "output_type": "stream",
     "text": [
      "Round 0\n",
      "Game over!\n",
      "White wins! 25:39\n",
      "Round 1\n",
      "Game over!\n",
      "White wins! 0:51\n",
      "Round 2\n",
      "Game over!\n",
      "White wins! 13:51\n",
      "Round 3\n",
      "Game over!\n",
      "White wins! 20:44\n",
      "Round 4\n",
      "Game over!\n",
      "White wins! 11:53\n",
      "Round 5\n",
      "Game over!\n",
      "White wins! 20:44\n",
      "Round 6\n",
      "Game over!\n",
      "White wins! 12:52\n",
      "Round 7\n",
      "Game over!\n",
      "White wins! 2:62\n",
      "Round 8\n",
      "Game over!\n",
      "Draw! 32:32\n",
      "Round 9\n",
      "Game over!\n",
      "White wins! 12:52\n",
      "Black:White:Draw=0:9:1\n"
     ]
    },
    {
     "data": {
      "text/plain": [
       "(0, 9, 1)"
      ]
     },
     "execution_count": 6,
     "metadata": {},
     "output_type": "execute_result"
    }
   ],
   "source": [
    "reversi.reset()\n",
    "ai_vs_ai(ai0,ai1,reversi,round_num=10,verbose=1)"
   ]
  },
  {
   "cell_type": "code",
   "execution_count": 7,
   "metadata": {},
   "outputs": [
    {
     "name": "stdout",
     "output_type": "stream",
     "text": [
      "Round 0\n",
      "Game over!\n",
      "White wins! 31:33\n",
      "Round 1\n",
      "Game over!\n",
      "Black wins! 36:28\n",
      "Round 2\n",
      "Game over!\n",
      "White wins! 17:47\n",
      "Round 3\n",
      "Game over!\n",
      "White wins! 24:40\n",
      "Round 4\n",
      "Game over!\n",
      "White wins! 17:47\n",
      "Round 5\n",
      "Game over!\n",
      "White wins! 10:54\n",
      "Round 6\n",
      "Game over!\n",
      "White wins! 28:36\n",
      "Round 7\n",
      "Game over!\n",
      "White wins! 12:52\n",
      "Round 8\n",
      "Game over!\n",
      "White wins! 28:36\n",
      "Round 9\n",
      "Game over!\n",
      "Black wins! 33:31\n",
      "Black:White:Draw=2:8:0\n"
     ]
    },
    {
     "data": {
      "text/plain": [
       "(2, 8, 0)"
      ]
     },
     "execution_count": 7,
     "metadata": {},
     "output_type": "execute_result"
    }
   ],
   "source": [
    "reversi.reset()\n",
    "ai_vs_ai(ai0,ai2,reversi,round_num=10,verbose=1)"
   ]
  },
  {
   "cell_type": "code",
   "execution_count": 8,
   "metadata": {},
   "outputs": [
    {
     "name": "stdout",
     "output_type": "stream",
     "text": [
      "Round 0\n",
      "Game over!\n",
      "Black wins! 39:25\n",
      "Round 1\n",
      "Game over!\n",
      "White wins! 7:56\n",
      "Round 2\n",
      "Game over!\n",
      "White wins! 14:50\n",
      "Round 3\n",
      "Game over!\n",
      "White wins! 26:38\n",
      "Round 4\n",
      "Game over!\n",
      "White wins! 9:55\n",
      "Round 5\n",
      "Game over!\n",
      "White wins! 7:57\n",
      "Round 6\n",
      "Game over!\n",
      "White wins! 27:37\n",
      "Round 7\n",
      "Game over!\n",
      "White wins! 2:61\n",
      "Round 8\n",
      "Game over!\n",
      "White wins! 18:46\n",
      "Round 9\n",
      "Game over!\n",
      "White wins! 11:53\n",
      "Black:White:Draw=1:9:0\n"
     ]
    },
    {
     "data": {
      "text/plain": [
       "(1, 9, 0)"
      ]
     },
     "execution_count": 8,
     "metadata": {},
     "output_type": "execute_result"
    }
   ],
   "source": [
    "reversi.reset()\n",
    "ai_vs_ai(ai0,ai3,reversi,round_num=10,verbose=1)"
   ]
  },
  {
   "cell_type": "code",
   "execution_count": 9,
   "metadata": {},
   "outputs": [
    {
     "name": "stdout",
     "output_type": "stream",
     "text": [
      "Round 0\n",
      "Game over!\n",
      "White wins! 16:48\n",
      "Round 1\n",
      "Game over!\n",
      "White wins! 14:50\n",
      "Round 2\n",
      "Game over!\n",
      "White wins! 11:53\n",
      "Round 3\n",
      "Game over!\n",
      "White wins! 19:45\n",
      "Round 4\n",
      "Game over!\n",
      "White wins! 15:49\n",
      "Round 5\n",
      "Game over!\n",
      "White wins! 21:43\n",
      "Round 6\n",
      "Game over!\n",
      "White wins! 13:51\n",
      "Round 7\n",
      "Game over!\n",
      "White wins! 6:58\n",
      "Round 8\n",
      "Game over!\n",
      "White wins! 14:50\n",
      "Round 9\n",
      "Game over!\n",
      "White wins! 17:47\n",
      "Black:White:Draw=0:10:0\n"
     ]
    },
    {
     "data": {
      "text/plain": [
       "(0, 10, 0)"
      ]
     },
     "execution_count": 9,
     "metadata": {},
     "output_type": "execute_result"
    }
   ],
   "source": [
    "reversi.reset()\n",
    "ai_vs_ai(ai0,ai4,reversi,round_num=10,verbose=1)"
   ]
  },
  {
   "cell_type": "code",
   "execution_count": 5,
   "metadata": {},
   "outputs": [
    {
     "name": "stdout",
     "output_type": "stream",
     "text": [
      "Round 0\n",
      "Game over!\n",
      "White wins! 15:49\n",
      "Round 1\n",
      "Game over!\n",
      "White wins! 15:49\n",
      "Round 2\n",
      "Game over!\n",
      "Black wins! 35:29\n",
      "Round 3\n",
      "Game over!\n",
      "White wins! 15:49\n",
      "Round 4\n",
      "Game over!\n",
      "Black wins! 37:27\n",
      "Round 5\n",
      "Game over!\n",
      "White wins! 17:47\n",
      "Round 6\n",
      "Game over!\n",
      "White wins! 12:52\n",
      "Round 7\n",
      "Game over!\n",
      "Black wins! 37:27\n",
      "Round 8\n",
      "Game over!\n",
      "White wins! 13:51\n",
      "Round 9\n",
      "Game over!\n",
      "Black wins! 35:29\n",
      "Black:White:Draw=4:6:0\n"
     ]
    },
    {
     "data": {
      "text/plain": [
       "(4, 6, 0)"
      ]
     },
     "execution_count": 5,
     "metadata": {},
     "output_type": "execute_result"
    }
   ],
   "source": [
    "reversi.reset()\n",
    "ai_vs_ai(ai1,ai2,reversi,round_num=10,verbose=1)"
   ]
  },
  {
   "cell_type": "code",
   "execution_count": 6,
   "metadata": {},
   "outputs": [
    {
     "name": "stdout",
     "output_type": "stream",
     "text": [
      "Round 0\n",
      "Game over!\n",
      "White wins! 14:50\n",
      "Round 1\n",
      "Game over!\n",
      "White wins! 23:41\n",
      "Round 2\n",
      "Game over!\n",
      "White wins! 26:38\n",
      "Round 3\n",
      "Game over!\n",
      "White wins! 29:35\n",
      "Round 4\n",
      "Game over!\n",
      "White wins! 14:50\n",
      "Round 5\n",
      "Game over!\n",
      "White wins! 9:55\n",
      "Round 6\n",
      "Game over!\n",
      "White wins! 13:51\n",
      "Round 7\n",
      "Game over!\n",
      "White wins! 30:34\n",
      "Round 8\n",
      "Game over!\n",
      "Black wins! 35:29\n",
      "Round 9\n",
      "Game over!\n",
      "White wins! 31:33\n",
      "Black:White:Draw=1:9:0\n"
     ]
    },
    {
     "data": {
      "text/plain": [
       "(1, 9, 0)"
      ]
     },
     "execution_count": 6,
     "metadata": {},
     "output_type": "execute_result"
    }
   ],
   "source": [
    "reversi.reset()\n",
    "ai_vs_ai(ai1,ai3,reversi,round_num=10,verbose=1)"
   ]
  },
  {
   "cell_type": "code",
   "execution_count": 5,
   "metadata": {},
   "outputs": [
    {
     "name": "stdout",
     "output_type": "stream",
     "text": [
      "Round 0\n",
      "Game over!\n",
      "White wins! 22:42\n",
      "Round 1\n",
      "Game over!\n",
      "Draw! 32:32\n",
      "Round 2\n",
      "Game over!\n",
      "Black wins! 43:21\n",
      "Round 3\n",
      "Game over!\n",
      "White wins! 29:35\n",
      "Round 4\n",
      "Game over!\n",
      "Black wins! 40:24\n",
      "Round 5\n",
      "Game over!\n",
      "Black wins! 45:19\n",
      "Round 6\n",
      "Game over!\n",
      "Black wins! 38:26\n",
      "Round 7\n",
      "Game over!\n",
      "White wins! 27:37\n",
      "Round 8\n",
      "Game over!\n",
      "White wins! 30:34\n",
      "Round 9\n",
      "Game over!\n",
      "Black wins! 42:22\n",
      "Black:White:Draw=5:4:1\n"
     ]
    },
    {
     "data": {
      "text/plain": [
       "(5, 4, 1)"
      ]
     },
     "execution_count": 5,
     "metadata": {},
     "output_type": "execute_result"
    }
   ],
   "source": [
    "reversi.reset()\n",
    "ai_vs_ai(ai1,ai4,reversi,round_num=10,verbose=1)"
   ]
  },
  {
   "cell_type": "code",
   "execution_count": 6,
   "metadata": {},
   "outputs": [
    {
     "name": "stdout",
     "output_type": "stream",
     "text": [
      "Round 0\n",
      "Game over!\n",
      "White wins! 22:42\n",
      "Round 1\n",
      "Game over!\n",
      "Black wins! 41:23\n",
      "Round 2\n",
      "Game over!\n",
      "White wins! 14:50\n",
      "Round 3\n",
      "Game over!\n",
      "White wins! 24:40\n",
      "Round 4\n",
      "Game over!\n",
      "White wins! 25:39\n",
      "Round 5\n",
      "Game over!\n",
      "White wins! 22:42\n",
      "Round 6\n",
      "Game over!\n",
      "White wins! 15:49\n",
      "Round 7\n",
      "Game over!\n",
      "White wins! 23:41\n",
      "Round 8\n",
      "Game over!\n",
      "White wins! 21:43\n",
      "Round 9\n",
      "Game over!\n",
      "White wins! 13:51\n",
      "Black:White:Draw=1:9:0\n"
     ]
    },
    {
     "data": {
      "text/plain": [
       "(1, 9, 0)"
      ]
     },
     "execution_count": 6,
     "metadata": {},
     "output_type": "execute_result"
    }
   ],
   "source": [
    "reversi.reset()\n",
    "ai_vs_ai(ai2,ai3,reversi,round_num=10,verbose=1)"
   ]
  },
  {
   "cell_type": "code",
   "execution_count": 7,
   "metadata": {},
   "outputs": [
    {
     "name": "stdout",
     "output_type": "stream",
     "text": [
      "Round 0\n",
      "Game over!\n",
      "Black wins! 53:11\n",
      "Round 1\n",
      "Game over!\n",
      "Black wins! 37:27\n",
      "Round 2\n",
      "Game over!\n",
      "White wins! 21:43\n",
      "Round 3\n",
      "Game over!\n",
      "Black wins! 46:18\n",
      "Round 4\n",
      "Game over!\n",
      "Black wins! 42:22\n",
      "Round 5\n",
      "Game over!\n",
      "Black wins! 45:19\n",
      "Round 6\n",
      "Game over!\n",
      "Black wins! 41:23\n",
      "Round 7\n",
      "Game over!\n",
      "Black wins! 33:31\n",
      "Round 8\n",
      "Game over!\n",
      "Black wins! 44:20\n",
      "Round 9\n",
      "Game over!\n",
      "Black wins! 50:14\n",
      "Black:White:Draw=9:1:0\n"
     ]
    },
    {
     "data": {
      "text/plain": [
       "(9, 1, 0)"
      ]
     },
     "execution_count": 7,
     "metadata": {},
     "output_type": "execute_result"
    }
   ],
   "source": [
    "reversi.reset()\n",
    "ai_vs_ai(ai2,ai4,reversi,round_num=10,verbose=1)"
   ]
  },
  {
   "cell_type": "code",
   "execution_count": 8,
   "metadata": {},
   "outputs": [
    {
     "name": "stdout",
     "output_type": "stream",
     "text": [
      "Round 0\n",
      "Game over!\n",
      "White wins! 30:34\n",
      "Round 1\n",
      "Game over!\n",
      "White wins! 20:44\n",
      "Round 2\n",
      "Game over!\n",
      "Black wins! 56:8\n",
      "Round 3\n",
      "Game over!\n",
      "White wins! 18:46\n",
      "Round 4\n",
      "Game over!\n",
      "Black wins! 50:14\n",
      "Round 5\n",
      "Game over!\n",
      "White wins! 25:39\n",
      "Round 6\n",
      "Game over!\n",
      "White wins! 26:38\n",
      "Round 7\n",
      "Game over!\n",
      "Black wins! 40:24\n",
      "Round 8\n",
      "Game over!\n",
      "Draw! 32:32\n",
      "Round 9\n",
      "Game over!\n",
      "White wins! 3:60\n",
      "Black:White:Draw=3:6:1\n"
     ]
    },
    {
     "data": {
      "text/plain": [
       "(3, 6, 1)"
      ]
     },
     "execution_count": 8,
     "metadata": {},
     "output_type": "execute_result"
    }
   ],
   "source": [
    "reversi.reset()\n",
    "ai_vs_ai(ai3,ai4,reversi,round_num=10,verbose=1)"
   ]
  }
 ],
 "metadata": {
  "interpreter": {
   "hash": "71342f419acc3ba6ae382518c4ba2a9e6f9bd8751a76a463bc8e77674675b221"
  },
  "kernelspec": {
   "display_name": "Python 3.9.7 ('pytorch')",
   "language": "python",
   "name": "python3"
  },
  "language_info": {
   "codemirror_mode": {
    "name": "ipython",
    "version": 3
   },
   "file_extension": ".py",
   "mimetype": "text/x-python",
   "name": "python",
   "nbconvert_exporter": "python",
   "pygments_lexer": "ipython3",
   "version": "3.9.7"
  },
  "orig_nbformat": 4
 },
 "nbformat": 4,
 "nbformat_minor": 2
}
