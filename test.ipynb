{
 "cells": [
  {
   "cell_type": "code",
   "execution_count": 1,
   "metadata": {},
   "outputs": [],
   "source": [
    "import environment\n",
    "from environment import *"
   ]
  },
  {
   "cell_type": "code",
   "execution_count": 2,
   "metadata": {},
   "outputs": [],
   "source": [
    "reversi = Reversi()"
   ]
  },
  {
   "cell_type": "code",
   "execution_count": 3,
   "metadata": {},
   "outputs": [
    {
     "name": "stdout",
     "output_type": "stream",
     "text": [
      "  0 1 2 3 4 5 6 7\n",
      "0                 \n",
      "1                 \n",
      "2                 \n",
      "3       ○ ●       \n",
      "4       ● ○       \n",
      "5                 \n",
      "6                 \n",
      "7                 \n"
     ]
    }
   ],
   "source": [
    "reversi.print_board()"
   ]
  },
  {
   "cell_type": "code",
   "execution_count": 4,
   "metadata": {},
   "outputs": [
    {
     "data": {
      "text/plain": [
       "{(4, 5): {(4, 4)}, (5, 4): {(4, 4)}, (2, 3): {(3, 3)}, (3, 2): {(3, 3)}}"
      ]
     },
     "execution_count": 4,
     "metadata": {},
     "output_type": "execute_result"
    }
   ],
   "source": [
    "reversi.find_valid_moves()"
   ]
  },
  {
   "cell_type": "code",
   "execution_count": 5,
   "metadata": {},
   "outputs": [
    {
     "name": "stdout",
     "output_type": "stream",
     "text": [
      "  0 1 2 3 4 5 6 7\n",
      "0                 \n",
      "1                 \n",
      "2                 \n",
      "3       ○ ●       \n",
      "4       ● ●       \n",
      "5         ●       \n",
      "6                 \n",
      "7                 \n"
     ]
    }
   ],
   "source": [
    "reversi.make_move(5,4)"
   ]
  },
  {
   "cell_type": "code",
   "execution_count": 6,
   "metadata": {},
   "outputs": [
    {
     "data": {
      "text/plain": [
       "{(3, 5): {(3, 4)}, (5, 3): {(4, 3)}, (5, 5): {(4, 4)}}"
      ]
     },
     "execution_count": 6,
     "metadata": {},
     "output_type": "execute_result"
    }
   ],
   "source": [
    "reversi.find_valid_moves()\n"
   ]
  },
  {
   "cell_type": "code",
   "execution_count": 7,
   "metadata": {},
   "outputs": [
    {
     "name": "stdout",
     "output_type": "stream",
     "text": [
      "Overlapping!\n",
      "Not a valid move!\n"
     ]
    }
   ],
   "source": [
    "reversi.make_move(4,4)"
   ]
  },
  {
   "cell_type": "code",
   "execution_count": 8,
   "metadata": {},
   "outputs": [
    {
     "name": "stdout",
     "output_type": "stream",
     "text": [
      "Out of bound!\n",
      "Not a valid move!\n"
     ]
    }
   ],
   "source": [
    "reversi.make_move(5,8)"
   ]
  },
  {
   "cell_type": "code",
   "execution_count": 9,
   "metadata": {},
   "outputs": [
    {
     "name": "stdout",
     "output_type": "stream",
     "text": [
      "Can't flip anything!\n",
      "Not a valid move!\n"
     ]
    }
   ],
   "source": [
    "reversi.make_move(7,7)"
   ]
  },
  {
   "cell_type": "code",
   "execution_count": 4,
   "metadata": {},
   "outputs": [
    {
     "name": "stdout",
     "output_type": "stream",
     "text": [
      "Game start!\n",
      "  0 1 2 3 4 5 6 7\n",
      "0 ○               \n",
      "1                 \n",
      "2                 \n",
      "3       ○ ●       \n",
      "4       ● ○       \n",
      "5                 \n",
      "6                 \n",
      "7                 \n",
      "Black's turn!\n",
      "Enter the coordinate of your move (i j/stop/hint): \n",
      "  0 1 2 3 4 5 6 7\n",
      "0 ● ●             \n",
      "1                 \n",
      "2                 \n",
      "3       ○ ●       \n",
      "4       ● ○       \n",
      "5                 \n",
      "6                 \n",
      "7                 \n",
      "White's turn!\n",
      "Enter the coordinate of your move (i j/stop/hint): \n",
      "Need 2 numbers!\n",
      "White's turn!\n",
      "Enter the coordinate of your move (i j/stop/hint): \n",
      "Can't flip anything!\n",
      "Not a valid move!\n",
      "White's turn!\n",
      "Enter the coordinate of your move (i j/stop/hint): \n",
      "Need 2 numbers!\n",
      "White's turn!\n",
      "Enter the coordinate of your move (i j/stop/hint): \n",
      "Game over!\n",
      "Black wins! 4:2\n"
     ]
    }
   ],
   "source": [
    "reversi.play()"
   ]
  },
  {
   "cell_type": "code",
   "execution_count": 4,
   "metadata": {},
   "outputs": [],
   "source": [
    "reversi.reset(init_board=np.zeros((8,8),dtype=np.int8))\n"
   ]
  },
  {
   "cell_type": "code",
   "execution_count": 5,
   "metadata": {},
   "outputs": [
    {
     "name": "stdout",
     "output_type": "stream",
     "text": [
      "  0 1 2 3 4 5 6 7\n",
      "0                 \n",
      "1                 \n",
      "2                 \n",
      "3                 \n",
      "4                 \n",
      "5                 \n",
      "6                 \n",
      "7                 \n"
     ]
    }
   ],
   "source": [
    "reversi.print_board()\n"
   ]
  },
  {
   "cell_type": "code",
   "execution_count": 6,
   "metadata": {},
   "outputs": [
    {
     "data": {
      "text/plain": [
       "{}"
      ]
     },
     "execution_count": 6,
     "metadata": {},
     "output_type": "execute_result"
    }
   ],
   "source": [
    "reversi.find_valid_moves()"
   ]
  },
  {
   "cell_type": "code",
   "execution_count": 7,
   "metadata": {},
   "outputs": [
    {
     "name": "stdout",
     "output_type": "stream",
     "text": [
      "Can't flip anything!\n",
      "Not a valid move!\n"
     ]
    }
   ],
   "source": [
    "reversi.make_move(0,1)"
   ]
  },
  {
   "cell_type": "code",
   "execution_count": 8,
   "metadata": {},
   "outputs": [
    {
     "name": "stdout",
     "output_type": "stream",
     "text": [
      "Game start!\n",
      "  0 1 2 3 4 5 6 7\n",
      "0                 \n",
      "1                 \n",
      "2                 \n",
      "3                 \n",
      "4                 \n",
      "5                 \n",
      "6                 \n",
      "7                 \n",
      "Black's turn!\n",
      "No valid move!\n",
      "White's turn!\n",
      "No valid move!\n",
      "Game over!\n",
      "Draw! 0:0\n"
     ]
    }
   ],
   "source": [
    "reversi.play()"
   ]
  },
  {
   "cell_type": "code",
   "execution_count": 9,
   "metadata": {},
   "outputs": [],
   "source": [
    "reversi.reset(init_board=np.ones((8,8),dtype=np.int8))\n"
   ]
  },
  {
   "cell_type": "code",
   "execution_count": 10,
   "metadata": {},
   "outputs": [
    {
     "name": "stdout",
     "output_type": "stream",
     "text": [
      "  0 1 2 3 4 5 6 7\n",
      "0 ● ● ● ● ● ● ● ● \n",
      "1 ● ● ● ● ● ● ● ● \n",
      "2 ● ● ● ● ● ● ● ● \n",
      "3 ● ● ● ● ● ● ● ● \n",
      "4 ● ● ● ● ● ● ● ● \n",
      "5 ● ● ● ● ● ● ● ● \n",
      "6 ● ● ● ● ● ● ● ● \n",
      "7 ● ● ● ● ● ● ● ● \n"
     ]
    }
   ],
   "source": [
    "reversi.print_board()\n"
   ]
  },
  {
   "cell_type": "code",
   "execution_count": 11,
   "metadata": {},
   "outputs": [
    {
     "data": {
      "text/plain": [
       "{}"
      ]
     },
     "execution_count": 11,
     "metadata": {},
     "output_type": "execute_result"
    }
   ],
   "source": [
    "reversi.find_valid_moves()"
   ]
  },
  {
   "cell_type": "code",
   "execution_count": 12,
   "metadata": {},
   "outputs": [
    {
     "name": "stdout",
     "output_type": "stream",
     "text": [
      "Overlapping!\n",
      "Not a valid move!\n"
     ]
    }
   ],
   "source": [
    "reversi.make_move(0,1)"
   ]
  },
  {
   "cell_type": "code",
   "execution_count": 13,
   "metadata": {},
   "outputs": [
    {
     "name": "stdout",
     "output_type": "stream",
     "text": [
      "Game start!\n",
      "  0 1 2 3 4 5 6 7\n",
      "0 ● ● ● ● ● ● ● ● \n",
      "1 ● ● ● ● ● ● ● ● \n",
      "2 ● ● ● ● ● ● ● ● \n",
      "3 ● ● ● ● ● ● ● ● \n",
      "4 ● ● ● ● ● ● ● ● \n",
      "5 ● ● ● ● ● ● ● ● \n",
      "6 ● ● ● ● ● ● ● ● \n",
      "7 ● ● ● ● ● ● ● ● \n",
      "Game over!\n",
      "Black wins! 64:0\n"
     ]
    }
   ],
   "source": [
    "reversi.play()"
   ]
  }
 ],
 "metadata": {
  "interpreter": {
   "hash": "fd034ed54560f0698c2946b7ca675e493afbd7ee3c0ecf162ae3deac3cf4477b"
  },
  "kernelspec": {
   "display_name": "Python 3.9.7 ('pytorch')",
   "language": "python",
   "name": "python3"
  },
  "language_info": {
   "codemirror_mode": {
    "name": "ipython",
    "version": 3
   },
   "file_extension": ".py",
   "mimetype": "text/x-python",
   "name": "python",
   "nbconvert_exporter": "python",
   "pygments_lexer": "ipython3",
   "version": "3.9.7"
  },
  "orig_nbformat": 4
 },
 "nbformat": 4,
 "nbformat_minor": 2
}
