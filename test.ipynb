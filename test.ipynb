{
 "cells": [
  {
   "cell_type": "code",
   "execution_count": 1,
   "metadata": {},
   "outputs": [],
   "source": [
    "from environment import *"
   ]
  },
  {
   "cell_type": "code",
   "execution_count": 2,
   "metadata": {},
   "outputs": [],
   "source": [
    "reversi = Reversi()"
   ]
  },
  {
   "cell_type": "code",
   "execution_count": 3,
   "metadata": {},
   "outputs": [
    {
     "name": "stdout",
     "output_type": "stream",
     "text": [
      "  0 1 2 3 4 5 6 7\n",
      "0                 \n",
      "1                 \n",
      "2                 \n",
      "3       ● ○       \n",
      "4       ○ ●       \n",
      "5                 \n",
      "6                 \n",
      "7                 \n"
     ]
    }
   ],
   "source": [
    "reversi.print_board()"
   ]
  },
  {
   "cell_type": "code",
   "execution_count": 4,
   "metadata": {},
   "outputs": [
    {
     "name": "stdout",
     "output_type": "stream",
     "text": [
      "  0 1 2 3 4 5 6 7\n",
      "0                 \n",
      "1                 \n",
      "2                 \n",
      "3       ● ○       \n",
      "4     ● ● ●       \n",
      "5                 \n",
      "6                 \n",
      "7                 \n"
     ]
    }
   ],
   "source": [
    "reversi.make_move(4,2)"
   ]
  },
  {
   "cell_type": "code",
   "execution_count": 5,
   "metadata": {},
   "outputs": [
    {
     "name": "stdout",
     "output_type": "stream",
     "text": [
      "Overlapping!\n",
      "Not a valid move!\n"
     ]
    }
   ],
   "source": [
    "reversi.make_move(4,4)"
   ]
  },
  {
   "cell_type": "code",
   "execution_count": 6,
   "metadata": {},
   "outputs": [
    {
     "name": "stdout",
     "output_type": "stream",
     "text": [
      "Out of bound!\n",
      "Not a valid move!\n"
     ]
    }
   ],
   "source": [
    "reversi.make_move(5,8)"
   ]
  },
  {
   "cell_type": "code",
   "execution_count": 7,
   "metadata": {},
   "outputs": [
    {
     "name": "stdout",
     "output_type": "stream",
     "text": [
      "Can't flip anything!\n",
      "Not a valid move!\n"
     ]
    }
   ],
   "source": [
    "reversi.make_move(2,3)"
   ]
  },
  {
   "cell_type": "code",
   "execution_count": 8,
   "metadata": {},
   "outputs": [
    {
     "name": "stdout",
     "output_type": "stream",
     "text": [
      "  0 1 2 3 4 5 6 7\n",
      "0                 \n",
      "1                 \n",
      "2                 \n",
      "3     ○ ○ ○       \n",
      "4     ● ● ●       \n",
      "5                 \n",
      "6                 \n",
      "7                 \n"
     ]
    }
   ],
   "source": [
    "reversi.make_move(3,2)"
   ]
  },
  {
   "cell_type": "code",
   "execution_count": 9,
   "metadata": {},
   "outputs": [
    {
     "name": "stdout",
     "output_type": "stream",
     "text": [
      "  0 1 2 3 4 5 6 7\n",
      "0                 \n",
      "1                 \n",
      "2     ●           \n",
      "3     ● ● ○       \n",
      "4     ● ● ●       \n",
      "5                 \n",
      "6                 \n",
      "7                 \n"
     ]
    }
   ],
   "source": [
    "reversi.make_move(2,2)"
   ]
  }
 ],
 "metadata": {
  "interpreter": {
   "hash": "fd034ed54560f0698c2946b7ca675e493afbd7ee3c0ecf162ae3deac3cf4477b"
  },
  "kernelspec": {
   "display_name": "Python 3.9.7 ('pytorch')",
   "language": "python",
   "name": "python3"
  },
  "language_info": {
   "codemirror_mode": {
    "name": "ipython",
    "version": 3
   },
   "file_extension": ".py",
   "mimetype": "text/x-python",
   "name": "python",
   "nbconvert_exporter": "python",
   "pygments_lexer": "ipython3",
   "version": "3.9.7"
  },
  "orig_nbformat": 4
 },
 "nbformat": 4,
 "nbformat_minor": 2
}
